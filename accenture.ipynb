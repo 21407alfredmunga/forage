{
 "cells": [
  {
   "cell_type": "code",
   "execution_count": 1,
   "metadata": {},
   "outputs": [],
   "source": [
    "#importing libraries\n",
    "import pandas as pd\n",
    "import numpy as np\n",
    "import matplotlib.pyplot as plt\n",
    "import seaborn as sns\n",
    "import sqlite3\n"
   ]
  },
  {
   "cell_type": "code",
   "execution_count": 2,
   "metadata": {},
   "outputs": [],
   "source": [
    "#uploading the data\n",
    "df1 = pd.read_csv(\"data/Content (1).csv\")\n",
    "df2 = pd.read_csv(\"data/Reactions (1).csv\")\n",
    "df3 = pd.read_csv(\"data/ReactionTypes (1).csv\")"
   ]
  },
  {
   "cell_type": "code",
   "execution_count": 3,
   "metadata": {},
   "outputs": [
    {
     "data": {
      "application/vnd.microsoft.datawrangler.viewer.v0+json": {
       "columns": [
        {
         "name": "index",
         "rawType": "int64",
         "type": "integer"
        },
        {
         "name": "Unnamed: 0",
         "rawType": "int64",
         "type": "integer"
        },
        {
         "name": "Content ID",
         "rawType": "object",
         "type": "string"
        },
        {
         "name": "User ID",
         "rawType": "object",
         "type": "string"
        },
        {
         "name": "Type",
         "rawType": "object",
         "type": "string"
        },
        {
         "name": "Category",
         "rawType": "object",
         "type": "string"
        },
        {
         "name": "URL",
         "rawType": "object",
         "type": "unknown"
        }
       ],
       "conversionMethod": "pd.DataFrame",
       "ref": "96610184-448f-4f2c-bd62-dd68b5bf0bd8",
       "rows": [
        [
         "0",
         "0",
         "97522e57-d9ab-4bd6-97bf-c24d952602d2",
         "8d3cd87d-8a31-4935-9a4f-b319bfe05f31",
         "photo",
         "Studying",
         "https://socialbuzz.cdn.com/content/storage/97522e57-d9ab-4bd6-97bf-c24d952602d2"
        ],
        [
         "1",
         "1",
         "9f737e0a-3cdd-4d29-9d24-753f4e3be810",
         "beb1f34e-7870-46d6-9fc7-2e12eb83ce43",
         "photo",
         "healthy eating",
         "https://socialbuzz.cdn.com/content/storage/9f737e0a-3cdd-4d29-9d24-753f4e3be810"
        ],
        [
         "2",
         "2",
         "230c4e4d-70c3-461d-b42c-ec09396efb3f",
         "a5c65404-5894-4b87-82f2-d787cbee86b4",
         "photo",
         "healthy eating",
         "https://socialbuzz.cdn.com/content/storage/230c4e4d-70c3-461d-b42c-ec09396efb3f"
        ],
        [
         "3",
         "3",
         "356fff80-da4d-4785-9f43-bc1261031dc6",
         "9fb4ce88-fac1-406c-8544-1a899cee7aaf",
         "photo",
         "technology",
         "https://socialbuzz.cdn.com/content/storage/356fff80-da4d-4785-9f43-bc1261031dc6"
        ],
        [
         "4",
         "4",
         "01ab84dd-6364-4236-abbb-3f237db77180",
         "e206e31b-5f85-4964-b6ea-d7ee5324def1",
         "video",
         "food",
         "https://socialbuzz.cdn.com/content/storage/01ab84dd-6364-4236-abbb-3f237db77180"
        ],
        [
         "5",
         "5",
         "cf1e8c1a-23eb-4426-9f58-002fb1b53e91",
         "4607d7b0-3313-49b8-9f73-5b8227fc5b67",
         "GIF",
         "cooking",
         null
        ],
        [
         "6",
         "6",
         "3f8590c7-6ab2-4973-805a-90cdec355f05",
         "ae600af5-c1f0-4b1f-adb0-1b4c246373e4",
         "video",
         "dogs",
         "https://socialbuzz.cdn.com/content/storage/3f8590c7-6ab2-4973-805a-90cdec355f05"
        ],
        [
         "7",
         "7",
         "e5490118-90d5-4572-ab1c-1fbc87b8d9ca",
         "583f2bde-886d-4cf3-a5c4-7cb60cd25df3",
         "video",
         "technology",
         "https://socialbuzz.cdn.com/content/storage/e5490118-90d5-4572-ab1c-1fbc87b8d9ca"
        ],
        [
         "8",
         "8",
         "0bedca96-fb76-4287-a83c-17330ed39cce",
         "2bd9c167-e06c-47c1-a978-3403d6724606",
         "photo",
         "soccer",
         "https://socialbuzz.cdn.com/content/storage/0bedca96-fb76-4287-a83c-17330ed39cce"
        ],
        [
         "9",
         "9",
         "b18cb63f-4c8e-44ee-a47f-541e95191d11",
         "13f0db8a-152a-496f-a6e8-1ed6a90b8788",
         "photo",
         "public speaking",
         "https://socialbuzz.cdn.com/content/storage/b18cb63f-4c8e-44ee-a47f-541e95191d11"
        ],
        [
         "10",
         "10",
         "5118e9c5-1377-4cc5-a486-65b35b7b7b76",
         "ef56931b-540b-4166-9090-73ae48ac8d97",
         "GIF",
         "science",
         null
        ],
        [
         "11",
         "11",
         "46fb701d-6c26-458e-ada3-2ebe5dbba01f",
         "4fe1900d-5e78-41a3-88ed-18e6889c6c77",
         "audio",
         "public speaking",
         "https://socialbuzz.cdn.com/content/storage/46fb701d-6c26-458e-ada3-2ebe5dbba01f"
        ],
        [
         "12",
         "12",
         "0be59876-d70c-486c-8e0b-a06bef7a2cd6",
         "72d2587e-8fae-4626-a73d-352e6465ba0f",
         "GIF",
         "tennis",
         "https://socialbuzz.cdn.com/content/storage/0be59876-d70c-486c-8e0b-a06bef7a2cd6"
        ],
        [
         "13",
         "13",
         "81abd65a-3b76-4574-a0a7-db6bf7184ae2",
         "4793cc6d-be60-42cc-bfd4-7ce8fd4d0eab",
         "video",
         "food",
         "https://socialbuzz.cdn.com/content/storage/81abd65a-3b76-4574-a0a7-db6bf7184ae2"
        ],
        [
         "14",
         "14",
         "e6ee2244-9382-49a9-8cbf-fa54aaaa2392",
         "740a4abd-187d-4783-990b-161c52fb5f86",
         "audio",
         "travel",
         "https://socialbuzz.cdn.com/content/storage/e6ee2244-9382-49a9-8cbf-fa54aaaa2392"
        ],
        [
         "15",
         "15",
         "7ffd0a82-4a0a-4527-a4d6-e251b756bac7",
         "425b7021-0409-4358-af39-2bff14197d0a",
         "GIF",
         "fitness",
         null
        ],
        [
         "16",
         "16",
         "f332d362-dc48-46c2-a64b-641157c0987e",
         "05782669-264e-4c14-990e-14c8dbb13bef",
         "GIF",
         "soccer",
         "https://socialbuzz.cdn.com/content/storage/f332d362-dc48-46c2-a64b-641157c0987e"
        ],
        [
         "17",
         "17",
         "a2e93b29-9259-4092-a4d7-62d5e823bb74",
         "d0ea9a00-4ea9-4c81-b16a-a20b72f824ea",
         "video",
         "public speaking",
         "https://socialbuzz.cdn.com/content/storage/a2e93b29-9259-4092-a4d7-62d5e823bb74"
        ],
        [
         "18",
         "18",
         "9b3a6d30-48e8-476c-82be-9031524bd04d",
         "3d13e0d3-e765-4065-9221-3f864689b9e0",
         "video",
         "food",
         "https://socialbuzz.cdn.com/content/storage/9b3a6d30-48e8-476c-82be-9031524bd04d"
        ],
        [
         "19",
         "19",
         "850fe90d-47d6-4eb7-b9c8-810afcb99ce9",
         "a90c3ed2-7c64-47c3-9da5-b10d05f6f9f2",
         "video",
         "tennis",
         "https://socialbuzz.cdn.com/content/storage/850fe90d-47d6-4eb7-b9c8-810afcb99ce9"
        ],
        [
         "20",
         "20",
         "baa2db00-81ba-4c34-b17d-dd950bfa133b",
         "2f112802-2501-45b5-a9d9-470cda6ef23e",
         "GIF",
         "soccer",
         null
        ],
        [
         "21",
         "21",
         "f98dde71-ce1d-4f6c-bb05-ae05779d2207",
         "11f207c2-0113-47e5-aa9a-df2c7b91ac75",
         "GIF",
         "soccer",
         "https://socialbuzz.cdn.com/content/storage/f98dde71-ce1d-4f6c-bb05-ae05779d2207"
        ],
        [
         "22",
         "22",
         "388bd9db-9d10-4f47-87c4-6db46e83bc95",
         "76cb4dbe-7748-49ab-8179-6e3f3b840dd6",
         "video",
         "education",
         "https://socialbuzz.cdn.com/content/storage/388bd9db-9d10-4f47-87c4-6db46e83bc95"
        ],
        [
         "23",
         "23",
         "78d0075f-895c-4a15-a35c-a921e2bb2cea",
         "34fcadd6-fa9b-4404-981a-c70c86cde556",
         "photo",
         "studying",
         "https://socialbuzz.cdn.com/content/storage/78d0075f-895c-4a15-a35c-a921e2bb2cea"
        ],
        [
         "24",
         "24",
         "bda0b065-7f8b-4d52-b7e9-fcc375cdab08",
         "7719b807-bf22-4b36-8f69-44d9a87d239b",
         "photo",
         "travel",
         "https://socialbuzz.cdn.com/content/storage/bda0b065-7f8b-4d52-b7e9-fcc375cdab08"
        ],
        [
         "25",
         "25",
         "a4067fb5-3ba8-4f97-87c2-ddad5e4029c2",
         "e2377b94-f06a-49ed-a266-377c4b07e980",
         "GIF",
         "food",
         null
        ],
        [
         "26",
         "26",
         "809b41e3-7a6f-4d80-84bf-f8d7b0e2d0e1",
         "10f311c3-f547-4260-8c0e-a155008b7936",
         "audio",
         "dogs",
         "https://socialbuzz.cdn.com/content/storage/809b41e3-7a6f-4d80-84bf-f8d7b0e2d0e1"
        ],
        [
         "27",
         "27",
         "34a3747a-0b77-42f6-ae19-87c38b94b674",
         "5b62e10e-3c19-4d28-a57c-e9bdc3d6758d",
         "GIF",
         "science",
         "https://socialbuzz.cdn.com/content/storage/34a3747a-0b77-42f6-ae19-87c38b94b674"
        ],
        [
         "28",
         "28",
         "2920dccb-e06f-49fc-8049-b6d4164dfe84",
         "f8926cfa-7036-4929-b5db-925c26daea1a",
         "GIF",
         "veganism",
         "https://socialbuzz.cdn.com/content/storage/2920dccb-e06f-49fc-8049-b6d4164dfe84"
        ],
        [
         "29",
         "29",
         "f4e3840e-bb71-40c2-afc5-9408d842646d",
         "d9aab962-e964-4afd-83ee-abda0865da67",
         "photo",
         "healthy eating",
         "https://socialbuzz.cdn.com/content/storage/f4e3840e-bb71-40c2-afc5-9408d842646d"
        ],
        [
         "30",
         "30",
         "a2ff9bf2-1fa6-4001-9566-f597f8e754ef",
         "f0ef81ec-85b1-4475-ae60-aa7d373088aa",
         "video",
         "food",
         null
        ],
        [
         "31",
         "31",
         "74718bbf-e5a3-442f-8ca2-4a3428757fc1",
         "e2377b94-f06a-49ed-a266-377c4b07e980",
         "video",
         "dogs",
         "https://socialbuzz.cdn.com/content/storage/74718bbf-e5a3-442f-8ca2-4a3428757fc1"
        ],
        [
         "32",
         "32",
         "89fd8f89-807f-4076-b7e7-84db361e11c1",
         "0c347562-ce55-450b-91ab-0707662b36f5",
         "audio",
         "studying",
         "https://socialbuzz.cdn.com/content/storage/89fd8f89-807f-4076-b7e7-84db361e11c1"
        ],
        [
         "33",
         "33",
         "02fa1c4f-722d-46d2-a85e-e5b136b5f3bc",
         "568e7c6f-b1e9-4a85-897c-aaaaa0ce8832",
         "video",
         "cooking",
         "https://socialbuzz.cdn.com/content/storage/02fa1c4f-722d-46d2-a85e-e5b136b5f3bc"
        ],
        [
         "34",
         "34",
         "eec5e521-4c28-4e8a-93a9-d544803fad7e",
         "cad2d54d-9555-4dfe-bfcd-7a584895a002",
         "audio",
         "food",
         "https://socialbuzz.cdn.com/content/storage/eec5e521-4c28-4e8a-93a9-d544803fad7e"
        ],
        [
         "35",
         "35",
         "07f88a73-aef2-45fd-8b5d-418e448b853d",
         "18c56602-937e-4ff3-bc6c-43f0b14212ca",
         "GIF",
         "Animals",
         null
        ],
        [
         "36",
         "36",
         "49367a0f-1fd5-4417-a7c9-4a154e1ae0ad",
         "3eb6dad3-c017-4e77-8920-fbdea84b0acc",
         "photo",
         "technology",
         "https://socialbuzz.cdn.com/content/storage/49367a0f-1fd5-4417-a7c9-4a154e1ae0ad"
        ],
        [
         "37",
         "37",
         "457301ee-3e87-40d8-8b82-ea4e1fa90e39",
         "bec3a622-1373-49c2-9d57-e0281c34f5cf",
         "GIF",
         "healthy eating",
         "https://socialbuzz.cdn.com/content/storage/457301ee-3e87-40d8-8b82-ea4e1fa90e39"
        ],
        [
         "38",
         "38",
         "4fa14453-7b29-4302-b51f-9aa23b472c1b",
         "8c9c5ee7-9c8c-4842-bbd1-1d1e51da8164",
         "audio",
         "animals",
         "https://socialbuzz.cdn.com/content/storage/4fa14453-7b29-4302-b51f-9aa23b472c1b"
        ],
        [
         "39",
         "39",
         "16757b80-2803-4464-b5d7-e372d8d77337",
         "3e65775b-36e4-495d-9c45-28127fb3da5f",
         "GIF",
         "technology",
         "https://socialbuzz.cdn.com/content/storage/16757b80-2803-4464-b5d7-e372d8d77337"
        ],
        [
         "40",
         "40",
         "ab4c4756-1c50-4136-bad9-3216e01ffac2",
         "bfe23c39-f814-4282-b0f7-506cd8295b8a",
         "audio",
         "fitness",
         null
        ],
        [
         "41",
         "41",
         "4478d98e-43e8-4dc0-884d-c1115aa8b970",
         "d6204684-926d-41db-ae9c-a7bf2e76313a",
         "audio",
         "animals",
         "https://socialbuzz.cdn.com/content/storage/4478d98e-43e8-4dc0-884d-c1115aa8b970"
        ],
        [
         "42",
         "42",
         "34f73132-fff6-4f01-a5ec-4b4b66461fc7",
         "948f7e9d-49bb-4770-bc9d-cb3fb65cca15",
         "photo",
         "fitness",
         "https://socialbuzz.cdn.com/content/storage/34f73132-fff6-4f01-a5ec-4b4b66461fc7"
        ],
        [
         "43",
         "43",
         "bfa4e11c-9d72-49b9-bd43-49d95c2e5181",
         "f9775602-43ab-4d54-ad93-7c9a489879bc",
         "photo",
         "veganism",
         "https://socialbuzz.cdn.com/content/storage/bfa4e11c-9d72-49b9-bd43-49d95c2e5181"
        ],
        [
         "44",
         "44",
         "220d9dc1-f8a5-422d-b200-3819f3b89b2b",
         "26c9a1fc-78b0-460b-8931-cec1dc87aa0d",
         "video",
         "dogs",
         "https://socialbuzz.cdn.com/content/storage/220d9dc1-f8a5-422d-b200-3819f3b89b2b"
        ],
        [
         "45",
         "45",
         "ea1afba2-c0a8-4d0f-ac64-91fd7a126bbc",
         "49da0743-cb4d-4c84-b6a2-537bbe7256d1",
         "GIF",
         "healthy eating",
         null
        ],
        [
         "46",
         "46",
         "18b4da8a-5f22-4dbe-b2af-c9013581cdd9",
         "b6d04982-1509-41ab-a700-b390d6cb4d02",
         "GIF",
         "studying",
         "https://socialbuzz.cdn.com/content/storage/18b4da8a-5f22-4dbe-b2af-c9013581cdd9"
        ],
        [
         "47",
         "47",
         "259cd56f-b017-4a41-81a7-f26ce9b35092",
         "b870b764-7447-4990-a8d4-024d33e0e67d",
         "video",
         "culture",
         "https://socialbuzz.cdn.com/content/storage/259cd56f-b017-4a41-81a7-f26ce9b35092"
        ],
        [
         "48",
         "48",
         "14ed7f7b-2c96-4458-8a39-606c25c14180",
         "7918d465-0953-4f20-9e28-539e74c82e2f",
         "video",
         "tennis",
         "https://socialbuzz.cdn.com/content/storage/14ed7f7b-2c96-4458-8a39-606c25c14180"
        ],
        [
         "49",
         "49",
         "c01fa154-5348-4040-9d20-0bbf01f6349b",
         "69532ce2-1ffe-4187-8042-0230d115b24e",
         "GIF",
         "tennis",
         "https://socialbuzz.cdn.com/content/storage/c01fa154-5348-4040-9d20-0bbf01f6349b"
        ]
       ],
       "shape": {
        "columns": 6,
        "rows": 1000
       }
      },
      "text/html": [
       "<div>\n",
       "<style scoped>\n",
       "    .dataframe tbody tr th:only-of-type {\n",
       "        vertical-align: middle;\n",
       "    }\n",
       "\n",
       "    .dataframe tbody tr th {\n",
       "        vertical-align: top;\n",
       "    }\n",
       "\n",
       "    .dataframe thead th {\n",
       "        text-align: right;\n",
       "    }\n",
       "</style>\n",
       "<table border=\"1\" class=\"dataframe\">\n",
       "  <thead>\n",
       "    <tr style=\"text-align: right;\">\n",
       "      <th></th>\n",
       "      <th>Unnamed: 0</th>\n",
       "      <th>Content ID</th>\n",
       "      <th>User ID</th>\n",
       "      <th>Type</th>\n",
       "      <th>Category</th>\n",
       "      <th>URL</th>\n",
       "    </tr>\n",
       "  </thead>\n",
       "  <tbody>\n",
       "    <tr>\n",
       "      <th>0</th>\n",
       "      <td>0</td>\n",
       "      <td>97522e57-d9ab-4bd6-97bf-c24d952602d2</td>\n",
       "      <td>8d3cd87d-8a31-4935-9a4f-b319bfe05f31</td>\n",
       "      <td>photo</td>\n",
       "      <td>Studying</td>\n",
       "      <td>https://socialbuzz.cdn.com/content/storage/975...</td>\n",
       "    </tr>\n",
       "    <tr>\n",
       "      <th>1</th>\n",
       "      <td>1</td>\n",
       "      <td>9f737e0a-3cdd-4d29-9d24-753f4e3be810</td>\n",
       "      <td>beb1f34e-7870-46d6-9fc7-2e12eb83ce43</td>\n",
       "      <td>photo</td>\n",
       "      <td>healthy eating</td>\n",
       "      <td>https://socialbuzz.cdn.com/content/storage/9f7...</td>\n",
       "    </tr>\n",
       "    <tr>\n",
       "      <th>2</th>\n",
       "      <td>2</td>\n",
       "      <td>230c4e4d-70c3-461d-b42c-ec09396efb3f</td>\n",
       "      <td>a5c65404-5894-4b87-82f2-d787cbee86b4</td>\n",
       "      <td>photo</td>\n",
       "      <td>healthy eating</td>\n",
       "      <td>https://socialbuzz.cdn.com/content/storage/230...</td>\n",
       "    </tr>\n",
       "    <tr>\n",
       "      <th>3</th>\n",
       "      <td>3</td>\n",
       "      <td>356fff80-da4d-4785-9f43-bc1261031dc6</td>\n",
       "      <td>9fb4ce88-fac1-406c-8544-1a899cee7aaf</td>\n",
       "      <td>photo</td>\n",
       "      <td>technology</td>\n",
       "      <td>https://socialbuzz.cdn.com/content/storage/356...</td>\n",
       "    </tr>\n",
       "    <tr>\n",
       "      <th>4</th>\n",
       "      <td>4</td>\n",
       "      <td>01ab84dd-6364-4236-abbb-3f237db77180</td>\n",
       "      <td>e206e31b-5f85-4964-b6ea-d7ee5324def1</td>\n",
       "      <td>video</td>\n",
       "      <td>food</td>\n",
       "      <td>https://socialbuzz.cdn.com/content/storage/01a...</td>\n",
       "    </tr>\n",
       "    <tr>\n",
       "      <th>...</th>\n",
       "      <td>...</td>\n",
       "      <td>...</td>\n",
       "      <td>...</td>\n",
       "      <td>...</td>\n",
       "      <td>...</td>\n",
       "      <td>...</td>\n",
       "    </tr>\n",
       "    <tr>\n",
       "      <th>995</th>\n",
       "      <td>995</td>\n",
       "      <td>b4cef9ef-627b-41d7-a051-5961b0204ebb</td>\n",
       "      <td>5b62e10e-3c19-4d28-a57c-e9bdc3d6758d</td>\n",
       "      <td>video</td>\n",
       "      <td>public speaking</td>\n",
       "      <td>NaN</td>\n",
       "    </tr>\n",
       "    <tr>\n",
       "      <th>996</th>\n",
       "      <td>996</td>\n",
       "      <td>7a79f4e4-3b7d-44dc-bdef-bc990740252c</td>\n",
       "      <td>4fe420fa-a193-4408-bd5d-62a020233609</td>\n",
       "      <td>GIF</td>\n",
       "      <td>technology</td>\n",
       "      <td>https://socialbuzz.cdn.com/content/storage/7a7...</td>\n",
       "    </tr>\n",
       "    <tr>\n",
       "      <th>997</th>\n",
       "      <td>997</td>\n",
       "      <td>435007a5-6261-4d8b-b0a4-55fdc189754b</td>\n",
       "      <td>35d6a1f3-e358-4d4b-8074-05f3b7f35c2a</td>\n",
       "      <td>audio</td>\n",
       "      <td>veganism</td>\n",
       "      <td>https://socialbuzz.cdn.com/content/storage/435...</td>\n",
       "    </tr>\n",
       "    <tr>\n",
       "      <th>998</th>\n",
       "      <td>998</td>\n",
       "      <td>4e4c9690-c013-4ee7-9e66-943d8cbd27b7</td>\n",
       "      <td>b9bcd994-f000-4f6b-87fc-caae08acfaa1</td>\n",
       "      <td>GIF</td>\n",
       "      <td>culture</td>\n",
       "      <td>https://socialbuzz.cdn.com/content/storage/4e4...</td>\n",
       "    </tr>\n",
       "    <tr>\n",
       "      <th>999</th>\n",
       "      <td>999</td>\n",
       "      <td>75d6b589-7fae-4a6d-b0d0-752845150e56</td>\n",
       "      <td>b8c653b5-0118-4d7e-9bde-07c2de90f0ff</td>\n",
       "      <td>audio</td>\n",
       "      <td>technology</td>\n",
       "      <td>https://socialbuzz.cdn.com/content/storage/75d...</td>\n",
       "    </tr>\n",
       "  </tbody>\n",
       "</table>\n",
       "<p>1000 rows × 6 columns</p>\n",
       "</div>"
      ],
      "text/plain": [
       "     Unnamed: 0                            Content ID  \\\n",
       "0             0  97522e57-d9ab-4bd6-97bf-c24d952602d2   \n",
       "1             1  9f737e0a-3cdd-4d29-9d24-753f4e3be810   \n",
       "2             2  230c4e4d-70c3-461d-b42c-ec09396efb3f   \n",
       "3             3  356fff80-da4d-4785-9f43-bc1261031dc6   \n",
       "4             4  01ab84dd-6364-4236-abbb-3f237db77180   \n",
       "..          ...                                   ...   \n",
       "995         995  b4cef9ef-627b-41d7-a051-5961b0204ebb   \n",
       "996         996  7a79f4e4-3b7d-44dc-bdef-bc990740252c   \n",
       "997         997  435007a5-6261-4d8b-b0a4-55fdc189754b   \n",
       "998         998  4e4c9690-c013-4ee7-9e66-943d8cbd27b7   \n",
       "999         999  75d6b589-7fae-4a6d-b0d0-752845150e56   \n",
       "\n",
       "                                  User ID   Type         Category  \\\n",
       "0    8d3cd87d-8a31-4935-9a4f-b319bfe05f31  photo         Studying   \n",
       "1    beb1f34e-7870-46d6-9fc7-2e12eb83ce43  photo   healthy eating   \n",
       "2    a5c65404-5894-4b87-82f2-d787cbee86b4  photo   healthy eating   \n",
       "3    9fb4ce88-fac1-406c-8544-1a899cee7aaf  photo       technology   \n",
       "4    e206e31b-5f85-4964-b6ea-d7ee5324def1  video             food   \n",
       "..                                    ...    ...              ...   \n",
       "995  5b62e10e-3c19-4d28-a57c-e9bdc3d6758d  video  public speaking   \n",
       "996  4fe420fa-a193-4408-bd5d-62a020233609    GIF       technology   \n",
       "997  35d6a1f3-e358-4d4b-8074-05f3b7f35c2a  audio         veganism   \n",
       "998  b9bcd994-f000-4f6b-87fc-caae08acfaa1    GIF          culture   \n",
       "999  b8c653b5-0118-4d7e-9bde-07c2de90f0ff  audio       technology   \n",
       "\n",
       "                                                   URL  \n",
       "0    https://socialbuzz.cdn.com/content/storage/975...  \n",
       "1    https://socialbuzz.cdn.com/content/storage/9f7...  \n",
       "2    https://socialbuzz.cdn.com/content/storage/230...  \n",
       "3    https://socialbuzz.cdn.com/content/storage/356...  \n",
       "4    https://socialbuzz.cdn.com/content/storage/01a...  \n",
       "..                                                 ...  \n",
       "995                                                NaN  \n",
       "996  https://socialbuzz.cdn.com/content/storage/7a7...  \n",
       "997  https://socialbuzz.cdn.com/content/storage/435...  \n",
       "998  https://socialbuzz.cdn.com/content/storage/4e4...  \n",
       "999  https://socialbuzz.cdn.com/content/storage/75d...  \n",
       "\n",
       "[1000 rows x 6 columns]"
      ]
     },
     "execution_count": 3,
     "metadata": {},
     "output_type": "execute_result"
    }
   ],
   "source": [
    "df1"
   ]
  },
  {
   "cell_type": "markdown",
   "metadata": {},
   "source": [
    "```markdown\n",
    "### Cleaning df1\n",
    "\n",
    "In this step, we will clean the `df1` dataframe by dropping unnecessary columns and handling any missing values or inconsistencies. This will help us prepare the data for further analysis.\n",
    "```"
   ]
  },
  {
   "cell_type": "code",
   "execution_count": 4,
   "metadata": {},
   "outputs": [
    {
     "data": {
      "application/vnd.microsoft.datawrangler.viewer.v0+json": {
       "columns": [
        {
         "name": "index",
         "rawType": "int64",
         "type": "integer"
        },
        {
         "name": "Unnamed: 0",
         "rawType": "int64",
         "type": "integer"
        },
        {
         "name": "Content ID",
         "rawType": "object",
         "type": "string"
        },
        {
         "name": "User ID",
         "rawType": "object",
         "type": "string"
        },
        {
         "name": "Type",
         "rawType": "object",
         "type": "string"
        },
        {
         "name": "Category",
         "rawType": "object",
         "type": "string"
        }
       ],
       "conversionMethod": "pd.DataFrame",
       "ref": "d5835fe0-921f-46cf-8ccf-8399debf1e33",
       "rows": [
        [
         "0",
         "0",
         "97522e57-d9ab-4bd6-97bf-c24d952602d2",
         "8d3cd87d-8a31-4935-9a4f-b319bfe05f31",
         "photo",
         "Studying"
        ],
        [
         "1",
         "1",
         "9f737e0a-3cdd-4d29-9d24-753f4e3be810",
         "beb1f34e-7870-46d6-9fc7-2e12eb83ce43",
         "photo",
         "healthy eating"
        ],
        [
         "2",
         "2",
         "230c4e4d-70c3-461d-b42c-ec09396efb3f",
         "a5c65404-5894-4b87-82f2-d787cbee86b4",
         "photo",
         "healthy eating"
        ],
        [
         "3",
         "3",
         "356fff80-da4d-4785-9f43-bc1261031dc6",
         "9fb4ce88-fac1-406c-8544-1a899cee7aaf",
         "photo",
         "technology"
        ],
        [
         "4",
         "4",
         "01ab84dd-6364-4236-abbb-3f237db77180",
         "e206e31b-5f85-4964-b6ea-d7ee5324def1",
         "video",
         "food"
        ],
        [
         "5",
         "5",
         "cf1e8c1a-23eb-4426-9f58-002fb1b53e91",
         "4607d7b0-3313-49b8-9f73-5b8227fc5b67",
         "GIF",
         "cooking"
        ],
        [
         "6",
         "6",
         "3f8590c7-6ab2-4973-805a-90cdec355f05",
         "ae600af5-c1f0-4b1f-adb0-1b4c246373e4",
         "video",
         "dogs"
        ],
        [
         "7",
         "7",
         "e5490118-90d5-4572-ab1c-1fbc87b8d9ca",
         "583f2bde-886d-4cf3-a5c4-7cb60cd25df3",
         "video",
         "technology"
        ],
        [
         "8",
         "8",
         "0bedca96-fb76-4287-a83c-17330ed39cce",
         "2bd9c167-e06c-47c1-a978-3403d6724606",
         "photo",
         "soccer"
        ],
        [
         "9",
         "9",
         "b18cb63f-4c8e-44ee-a47f-541e95191d11",
         "13f0db8a-152a-496f-a6e8-1ed6a90b8788",
         "photo",
         "public speaking"
        ],
        [
         "10",
         "10",
         "5118e9c5-1377-4cc5-a486-65b35b7b7b76",
         "ef56931b-540b-4166-9090-73ae48ac8d97",
         "GIF",
         "science"
        ],
        [
         "11",
         "11",
         "46fb701d-6c26-458e-ada3-2ebe5dbba01f",
         "4fe1900d-5e78-41a3-88ed-18e6889c6c77",
         "audio",
         "public speaking"
        ],
        [
         "12",
         "12",
         "0be59876-d70c-486c-8e0b-a06bef7a2cd6",
         "72d2587e-8fae-4626-a73d-352e6465ba0f",
         "GIF",
         "tennis"
        ],
        [
         "13",
         "13",
         "81abd65a-3b76-4574-a0a7-db6bf7184ae2",
         "4793cc6d-be60-42cc-bfd4-7ce8fd4d0eab",
         "video",
         "food"
        ],
        [
         "14",
         "14",
         "e6ee2244-9382-49a9-8cbf-fa54aaaa2392",
         "740a4abd-187d-4783-990b-161c52fb5f86",
         "audio",
         "travel"
        ],
        [
         "15",
         "15",
         "7ffd0a82-4a0a-4527-a4d6-e251b756bac7",
         "425b7021-0409-4358-af39-2bff14197d0a",
         "GIF",
         "fitness"
        ],
        [
         "16",
         "16",
         "f332d362-dc48-46c2-a64b-641157c0987e",
         "05782669-264e-4c14-990e-14c8dbb13bef",
         "GIF",
         "soccer"
        ],
        [
         "17",
         "17",
         "a2e93b29-9259-4092-a4d7-62d5e823bb74",
         "d0ea9a00-4ea9-4c81-b16a-a20b72f824ea",
         "video",
         "public speaking"
        ],
        [
         "18",
         "18",
         "9b3a6d30-48e8-476c-82be-9031524bd04d",
         "3d13e0d3-e765-4065-9221-3f864689b9e0",
         "video",
         "food"
        ],
        [
         "19",
         "19",
         "850fe90d-47d6-4eb7-b9c8-810afcb99ce9",
         "a90c3ed2-7c64-47c3-9da5-b10d05f6f9f2",
         "video",
         "tennis"
        ],
        [
         "20",
         "20",
         "baa2db00-81ba-4c34-b17d-dd950bfa133b",
         "2f112802-2501-45b5-a9d9-470cda6ef23e",
         "GIF",
         "soccer"
        ],
        [
         "21",
         "21",
         "f98dde71-ce1d-4f6c-bb05-ae05779d2207",
         "11f207c2-0113-47e5-aa9a-df2c7b91ac75",
         "GIF",
         "soccer"
        ],
        [
         "22",
         "22",
         "388bd9db-9d10-4f47-87c4-6db46e83bc95",
         "76cb4dbe-7748-49ab-8179-6e3f3b840dd6",
         "video",
         "education"
        ],
        [
         "23",
         "23",
         "78d0075f-895c-4a15-a35c-a921e2bb2cea",
         "34fcadd6-fa9b-4404-981a-c70c86cde556",
         "photo",
         "studying"
        ],
        [
         "24",
         "24",
         "bda0b065-7f8b-4d52-b7e9-fcc375cdab08",
         "7719b807-bf22-4b36-8f69-44d9a87d239b",
         "photo",
         "travel"
        ],
        [
         "25",
         "25",
         "a4067fb5-3ba8-4f97-87c2-ddad5e4029c2",
         "e2377b94-f06a-49ed-a266-377c4b07e980",
         "GIF",
         "food"
        ],
        [
         "26",
         "26",
         "809b41e3-7a6f-4d80-84bf-f8d7b0e2d0e1",
         "10f311c3-f547-4260-8c0e-a155008b7936",
         "audio",
         "dogs"
        ],
        [
         "27",
         "27",
         "34a3747a-0b77-42f6-ae19-87c38b94b674",
         "5b62e10e-3c19-4d28-a57c-e9bdc3d6758d",
         "GIF",
         "science"
        ],
        [
         "28",
         "28",
         "2920dccb-e06f-49fc-8049-b6d4164dfe84",
         "f8926cfa-7036-4929-b5db-925c26daea1a",
         "GIF",
         "veganism"
        ],
        [
         "29",
         "29",
         "f4e3840e-bb71-40c2-afc5-9408d842646d",
         "d9aab962-e964-4afd-83ee-abda0865da67",
         "photo",
         "healthy eating"
        ],
        [
         "30",
         "30",
         "a2ff9bf2-1fa6-4001-9566-f597f8e754ef",
         "f0ef81ec-85b1-4475-ae60-aa7d373088aa",
         "video",
         "food"
        ],
        [
         "31",
         "31",
         "74718bbf-e5a3-442f-8ca2-4a3428757fc1",
         "e2377b94-f06a-49ed-a266-377c4b07e980",
         "video",
         "dogs"
        ],
        [
         "32",
         "32",
         "89fd8f89-807f-4076-b7e7-84db361e11c1",
         "0c347562-ce55-450b-91ab-0707662b36f5",
         "audio",
         "studying"
        ],
        [
         "33",
         "33",
         "02fa1c4f-722d-46d2-a85e-e5b136b5f3bc",
         "568e7c6f-b1e9-4a85-897c-aaaaa0ce8832",
         "video",
         "cooking"
        ],
        [
         "34",
         "34",
         "eec5e521-4c28-4e8a-93a9-d544803fad7e",
         "cad2d54d-9555-4dfe-bfcd-7a584895a002",
         "audio",
         "food"
        ],
        [
         "35",
         "35",
         "07f88a73-aef2-45fd-8b5d-418e448b853d",
         "18c56602-937e-4ff3-bc6c-43f0b14212ca",
         "GIF",
         "Animals"
        ],
        [
         "36",
         "36",
         "49367a0f-1fd5-4417-a7c9-4a154e1ae0ad",
         "3eb6dad3-c017-4e77-8920-fbdea84b0acc",
         "photo",
         "technology"
        ],
        [
         "37",
         "37",
         "457301ee-3e87-40d8-8b82-ea4e1fa90e39",
         "bec3a622-1373-49c2-9d57-e0281c34f5cf",
         "GIF",
         "healthy eating"
        ],
        [
         "38",
         "38",
         "4fa14453-7b29-4302-b51f-9aa23b472c1b",
         "8c9c5ee7-9c8c-4842-bbd1-1d1e51da8164",
         "audio",
         "animals"
        ],
        [
         "39",
         "39",
         "16757b80-2803-4464-b5d7-e372d8d77337",
         "3e65775b-36e4-495d-9c45-28127fb3da5f",
         "GIF",
         "technology"
        ],
        [
         "40",
         "40",
         "ab4c4756-1c50-4136-bad9-3216e01ffac2",
         "bfe23c39-f814-4282-b0f7-506cd8295b8a",
         "audio",
         "fitness"
        ],
        [
         "41",
         "41",
         "4478d98e-43e8-4dc0-884d-c1115aa8b970",
         "d6204684-926d-41db-ae9c-a7bf2e76313a",
         "audio",
         "animals"
        ],
        [
         "42",
         "42",
         "34f73132-fff6-4f01-a5ec-4b4b66461fc7",
         "948f7e9d-49bb-4770-bc9d-cb3fb65cca15",
         "photo",
         "fitness"
        ],
        [
         "43",
         "43",
         "bfa4e11c-9d72-49b9-bd43-49d95c2e5181",
         "f9775602-43ab-4d54-ad93-7c9a489879bc",
         "photo",
         "veganism"
        ],
        [
         "44",
         "44",
         "220d9dc1-f8a5-422d-b200-3819f3b89b2b",
         "26c9a1fc-78b0-460b-8931-cec1dc87aa0d",
         "video",
         "dogs"
        ],
        [
         "45",
         "45",
         "ea1afba2-c0a8-4d0f-ac64-91fd7a126bbc",
         "49da0743-cb4d-4c84-b6a2-537bbe7256d1",
         "GIF",
         "healthy eating"
        ],
        [
         "46",
         "46",
         "18b4da8a-5f22-4dbe-b2af-c9013581cdd9",
         "b6d04982-1509-41ab-a700-b390d6cb4d02",
         "GIF",
         "studying"
        ],
        [
         "47",
         "47",
         "259cd56f-b017-4a41-81a7-f26ce9b35092",
         "b870b764-7447-4990-a8d4-024d33e0e67d",
         "video",
         "culture"
        ],
        [
         "48",
         "48",
         "14ed7f7b-2c96-4458-8a39-606c25c14180",
         "7918d465-0953-4f20-9e28-539e74c82e2f",
         "video",
         "tennis"
        ],
        [
         "49",
         "49",
         "c01fa154-5348-4040-9d20-0bbf01f6349b",
         "69532ce2-1ffe-4187-8042-0230d115b24e",
         "GIF",
         "tennis"
        ]
       ],
       "shape": {
        "columns": 5,
        "rows": 1000
       }
      },
      "text/html": [
       "<div>\n",
       "<style scoped>\n",
       "    .dataframe tbody tr th:only-of-type {\n",
       "        vertical-align: middle;\n",
       "    }\n",
       "\n",
       "    .dataframe tbody tr th {\n",
       "        vertical-align: top;\n",
       "    }\n",
       "\n",
       "    .dataframe thead th {\n",
       "        text-align: right;\n",
       "    }\n",
       "</style>\n",
       "<table border=\"1\" class=\"dataframe\">\n",
       "  <thead>\n",
       "    <tr style=\"text-align: right;\">\n",
       "      <th></th>\n",
       "      <th>Unnamed: 0</th>\n",
       "      <th>Content ID</th>\n",
       "      <th>User ID</th>\n",
       "      <th>Type</th>\n",
       "      <th>Category</th>\n",
       "    </tr>\n",
       "  </thead>\n",
       "  <tbody>\n",
       "    <tr>\n",
       "      <th>0</th>\n",
       "      <td>0</td>\n",
       "      <td>97522e57-d9ab-4bd6-97bf-c24d952602d2</td>\n",
       "      <td>8d3cd87d-8a31-4935-9a4f-b319bfe05f31</td>\n",
       "      <td>photo</td>\n",
       "      <td>Studying</td>\n",
       "    </tr>\n",
       "    <tr>\n",
       "      <th>1</th>\n",
       "      <td>1</td>\n",
       "      <td>9f737e0a-3cdd-4d29-9d24-753f4e3be810</td>\n",
       "      <td>beb1f34e-7870-46d6-9fc7-2e12eb83ce43</td>\n",
       "      <td>photo</td>\n",
       "      <td>healthy eating</td>\n",
       "    </tr>\n",
       "    <tr>\n",
       "      <th>2</th>\n",
       "      <td>2</td>\n",
       "      <td>230c4e4d-70c3-461d-b42c-ec09396efb3f</td>\n",
       "      <td>a5c65404-5894-4b87-82f2-d787cbee86b4</td>\n",
       "      <td>photo</td>\n",
       "      <td>healthy eating</td>\n",
       "    </tr>\n",
       "    <tr>\n",
       "      <th>3</th>\n",
       "      <td>3</td>\n",
       "      <td>356fff80-da4d-4785-9f43-bc1261031dc6</td>\n",
       "      <td>9fb4ce88-fac1-406c-8544-1a899cee7aaf</td>\n",
       "      <td>photo</td>\n",
       "      <td>technology</td>\n",
       "    </tr>\n",
       "    <tr>\n",
       "      <th>4</th>\n",
       "      <td>4</td>\n",
       "      <td>01ab84dd-6364-4236-abbb-3f237db77180</td>\n",
       "      <td>e206e31b-5f85-4964-b6ea-d7ee5324def1</td>\n",
       "      <td>video</td>\n",
       "      <td>food</td>\n",
       "    </tr>\n",
       "    <tr>\n",
       "      <th>...</th>\n",
       "      <td>...</td>\n",
       "      <td>...</td>\n",
       "      <td>...</td>\n",
       "      <td>...</td>\n",
       "      <td>...</td>\n",
       "    </tr>\n",
       "    <tr>\n",
       "      <th>995</th>\n",
       "      <td>995</td>\n",
       "      <td>b4cef9ef-627b-41d7-a051-5961b0204ebb</td>\n",
       "      <td>5b62e10e-3c19-4d28-a57c-e9bdc3d6758d</td>\n",
       "      <td>video</td>\n",
       "      <td>public speaking</td>\n",
       "    </tr>\n",
       "    <tr>\n",
       "      <th>996</th>\n",
       "      <td>996</td>\n",
       "      <td>7a79f4e4-3b7d-44dc-bdef-bc990740252c</td>\n",
       "      <td>4fe420fa-a193-4408-bd5d-62a020233609</td>\n",
       "      <td>GIF</td>\n",
       "      <td>technology</td>\n",
       "    </tr>\n",
       "    <tr>\n",
       "      <th>997</th>\n",
       "      <td>997</td>\n",
       "      <td>435007a5-6261-4d8b-b0a4-55fdc189754b</td>\n",
       "      <td>35d6a1f3-e358-4d4b-8074-05f3b7f35c2a</td>\n",
       "      <td>audio</td>\n",
       "      <td>veganism</td>\n",
       "    </tr>\n",
       "    <tr>\n",
       "      <th>998</th>\n",
       "      <td>998</td>\n",
       "      <td>4e4c9690-c013-4ee7-9e66-943d8cbd27b7</td>\n",
       "      <td>b9bcd994-f000-4f6b-87fc-caae08acfaa1</td>\n",
       "      <td>GIF</td>\n",
       "      <td>culture</td>\n",
       "    </tr>\n",
       "    <tr>\n",
       "      <th>999</th>\n",
       "      <td>999</td>\n",
       "      <td>75d6b589-7fae-4a6d-b0d0-752845150e56</td>\n",
       "      <td>b8c653b5-0118-4d7e-9bde-07c2de90f0ff</td>\n",
       "      <td>audio</td>\n",
       "      <td>technology</td>\n",
       "    </tr>\n",
       "  </tbody>\n",
       "</table>\n",
       "<p>1000 rows × 5 columns</p>\n",
       "</div>"
      ],
      "text/plain": [
       "     Unnamed: 0                            Content ID  \\\n",
       "0             0  97522e57-d9ab-4bd6-97bf-c24d952602d2   \n",
       "1             1  9f737e0a-3cdd-4d29-9d24-753f4e3be810   \n",
       "2             2  230c4e4d-70c3-461d-b42c-ec09396efb3f   \n",
       "3             3  356fff80-da4d-4785-9f43-bc1261031dc6   \n",
       "4             4  01ab84dd-6364-4236-abbb-3f237db77180   \n",
       "..          ...                                   ...   \n",
       "995         995  b4cef9ef-627b-41d7-a051-5961b0204ebb   \n",
       "996         996  7a79f4e4-3b7d-44dc-bdef-bc990740252c   \n",
       "997         997  435007a5-6261-4d8b-b0a4-55fdc189754b   \n",
       "998         998  4e4c9690-c013-4ee7-9e66-943d8cbd27b7   \n",
       "999         999  75d6b589-7fae-4a6d-b0d0-752845150e56   \n",
       "\n",
       "                                  User ID   Type         Category  \n",
       "0    8d3cd87d-8a31-4935-9a4f-b319bfe05f31  photo         Studying  \n",
       "1    beb1f34e-7870-46d6-9fc7-2e12eb83ce43  photo   healthy eating  \n",
       "2    a5c65404-5894-4b87-82f2-d787cbee86b4  photo   healthy eating  \n",
       "3    9fb4ce88-fac1-406c-8544-1a899cee7aaf  photo       technology  \n",
       "4    e206e31b-5f85-4964-b6ea-d7ee5324def1  video             food  \n",
       "..                                    ...    ...              ...  \n",
       "995  5b62e10e-3c19-4d28-a57c-e9bdc3d6758d  video  public speaking  \n",
       "996  4fe420fa-a193-4408-bd5d-62a020233609    GIF       technology  \n",
       "997  35d6a1f3-e358-4d4b-8074-05f3b7f35c2a  audio         veganism  \n",
       "998  b9bcd994-f000-4f6b-87fc-caae08acfaa1    GIF          culture  \n",
       "999  b8c653b5-0118-4d7e-9bde-07c2de90f0ff  audio       technology  \n",
       "\n",
       "[1000 rows x 5 columns]"
      ]
     },
     "execution_count": 4,
     "metadata": {},
     "output_type": "execute_result"
    }
   ],
   "source": [
    "\n",
    "df1 = df1.drop(columns=['URL'])\n",
    "\n",
    "df1\n"
   ]
  },
  {
   "cell_type": "code",
   "execution_count": 5,
   "metadata": {},
   "outputs": [
    {
     "data": {
      "application/vnd.microsoft.datawrangler.viewer.v0+json": {
       "columns": [
        {
         "name": "index",
         "rawType": "int64",
         "type": "integer"
        },
        {
         "name": "Unnamed: 0",
         "rawType": "int64",
         "type": "integer"
        },
        {
         "name": "Content ID",
         "rawType": "object",
         "type": "string"
        },
        {
         "name": "Content Type",
         "rawType": "object",
         "type": "string"
        },
        {
         "name": "Category",
         "rawType": "object",
         "type": "string"
        }
       ],
       "conversionMethod": "pd.DataFrame",
       "ref": "93ccd05c-45b2-4cf1-8af5-f2c74ad5b51a",
       "rows": [
        [
         "0",
         "0",
         "97522e57-d9ab-4bd6-97bf-c24d952602d2",
         "photo",
         "Studying"
        ],
        [
         "1",
         "1",
         "9f737e0a-3cdd-4d29-9d24-753f4e3be810",
         "photo",
         "healthy eating"
        ],
        [
         "2",
         "2",
         "230c4e4d-70c3-461d-b42c-ec09396efb3f",
         "photo",
         "healthy eating"
        ],
        [
         "3",
         "3",
         "356fff80-da4d-4785-9f43-bc1261031dc6",
         "photo",
         "technology"
        ],
        [
         "4",
         "4",
         "01ab84dd-6364-4236-abbb-3f237db77180",
         "video",
         "food"
        ],
        [
         "5",
         "5",
         "cf1e8c1a-23eb-4426-9f58-002fb1b53e91",
         "GIF",
         "cooking"
        ],
        [
         "6",
         "6",
         "3f8590c7-6ab2-4973-805a-90cdec355f05",
         "video",
         "dogs"
        ],
        [
         "7",
         "7",
         "e5490118-90d5-4572-ab1c-1fbc87b8d9ca",
         "video",
         "technology"
        ],
        [
         "8",
         "8",
         "0bedca96-fb76-4287-a83c-17330ed39cce",
         "photo",
         "soccer"
        ],
        [
         "9",
         "9",
         "b18cb63f-4c8e-44ee-a47f-541e95191d11",
         "photo",
         "public speaking"
        ],
        [
         "10",
         "10",
         "5118e9c5-1377-4cc5-a486-65b35b7b7b76",
         "GIF",
         "science"
        ],
        [
         "11",
         "11",
         "46fb701d-6c26-458e-ada3-2ebe5dbba01f",
         "audio",
         "public speaking"
        ],
        [
         "12",
         "12",
         "0be59876-d70c-486c-8e0b-a06bef7a2cd6",
         "GIF",
         "tennis"
        ],
        [
         "13",
         "13",
         "81abd65a-3b76-4574-a0a7-db6bf7184ae2",
         "video",
         "food"
        ],
        [
         "14",
         "14",
         "e6ee2244-9382-49a9-8cbf-fa54aaaa2392",
         "audio",
         "travel"
        ],
        [
         "15",
         "15",
         "7ffd0a82-4a0a-4527-a4d6-e251b756bac7",
         "GIF",
         "fitness"
        ],
        [
         "16",
         "16",
         "f332d362-dc48-46c2-a64b-641157c0987e",
         "GIF",
         "soccer"
        ],
        [
         "17",
         "17",
         "a2e93b29-9259-4092-a4d7-62d5e823bb74",
         "video",
         "public speaking"
        ],
        [
         "18",
         "18",
         "9b3a6d30-48e8-476c-82be-9031524bd04d",
         "video",
         "food"
        ],
        [
         "19",
         "19",
         "850fe90d-47d6-4eb7-b9c8-810afcb99ce9",
         "video",
         "tennis"
        ],
        [
         "20",
         "20",
         "baa2db00-81ba-4c34-b17d-dd950bfa133b",
         "GIF",
         "soccer"
        ],
        [
         "21",
         "21",
         "f98dde71-ce1d-4f6c-bb05-ae05779d2207",
         "GIF",
         "soccer"
        ],
        [
         "22",
         "22",
         "388bd9db-9d10-4f47-87c4-6db46e83bc95",
         "video",
         "education"
        ],
        [
         "23",
         "23",
         "78d0075f-895c-4a15-a35c-a921e2bb2cea",
         "photo",
         "studying"
        ],
        [
         "24",
         "24",
         "bda0b065-7f8b-4d52-b7e9-fcc375cdab08",
         "photo",
         "travel"
        ],
        [
         "25",
         "25",
         "a4067fb5-3ba8-4f97-87c2-ddad5e4029c2",
         "GIF",
         "food"
        ],
        [
         "26",
         "26",
         "809b41e3-7a6f-4d80-84bf-f8d7b0e2d0e1",
         "audio",
         "dogs"
        ],
        [
         "27",
         "27",
         "34a3747a-0b77-42f6-ae19-87c38b94b674",
         "GIF",
         "science"
        ],
        [
         "28",
         "28",
         "2920dccb-e06f-49fc-8049-b6d4164dfe84",
         "GIF",
         "veganism"
        ],
        [
         "29",
         "29",
         "f4e3840e-bb71-40c2-afc5-9408d842646d",
         "photo",
         "healthy eating"
        ],
        [
         "30",
         "30",
         "a2ff9bf2-1fa6-4001-9566-f597f8e754ef",
         "video",
         "food"
        ],
        [
         "31",
         "31",
         "74718bbf-e5a3-442f-8ca2-4a3428757fc1",
         "video",
         "dogs"
        ],
        [
         "32",
         "32",
         "89fd8f89-807f-4076-b7e7-84db361e11c1",
         "audio",
         "studying"
        ],
        [
         "33",
         "33",
         "02fa1c4f-722d-46d2-a85e-e5b136b5f3bc",
         "video",
         "cooking"
        ],
        [
         "34",
         "34",
         "eec5e521-4c28-4e8a-93a9-d544803fad7e",
         "audio",
         "food"
        ],
        [
         "35",
         "35",
         "07f88a73-aef2-45fd-8b5d-418e448b853d",
         "GIF",
         "Animals"
        ],
        [
         "36",
         "36",
         "49367a0f-1fd5-4417-a7c9-4a154e1ae0ad",
         "photo",
         "technology"
        ],
        [
         "37",
         "37",
         "457301ee-3e87-40d8-8b82-ea4e1fa90e39",
         "GIF",
         "healthy eating"
        ],
        [
         "38",
         "38",
         "4fa14453-7b29-4302-b51f-9aa23b472c1b",
         "audio",
         "animals"
        ],
        [
         "39",
         "39",
         "16757b80-2803-4464-b5d7-e372d8d77337",
         "GIF",
         "technology"
        ],
        [
         "40",
         "40",
         "ab4c4756-1c50-4136-bad9-3216e01ffac2",
         "audio",
         "fitness"
        ],
        [
         "41",
         "41",
         "4478d98e-43e8-4dc0-884d-c1115aa8b970",
         "audio",
         "animals"
        ],
        [
         "42",
         "42",
         "34f73132-fff6-4f01-a5ec-4b4b66461fc7",
         "photo",
         "fitness"
        ],
        [
         "43",
         "43",
         "bfa4e11c-9d72-49b9-bd43-49d95c2e5181",
         "photo",
         "veganism"
        ],
        [
         "44",
         "44",
         "220d9dc1-f8a5-422d-b200-3819f3b89b2b",
         "video",
         "dogs"
        ],
        [
         "45",
         "45",
         "ea1afba2-c0a8-4d0f-ac64-91fd7a126bbc",
         "GIF",
         "healthy eating"
        ],
        [
         "46",
         "46",
         "18b4da8a-5f22-4dbe-b2af-c9013581cdd9",
         "GIF",
         "studying"
        ],
        [
         "47",
         "47",
         "259cd56f-b017-4a41-81a7-f26ce9b35092",
         "video",
         "culture"
        ],
        [
         "48",
         "48",
         "14ed7f7b-2c96-4458-8a39-606c25c14180",
         "video",
         "tennis"
        ],
        [
         "49",
         "49",
         "c01fa154-5348-4040-9d20-0bbf01f6349b",
         "GIF",
         "tennis"
        ]
       ],
       "shape": {
        "columns": 4,
        "rows": 1000
       }
      },
      "text/html": [
       "<div>\n",
       "<style scoped>\n",
       "    .dataframe tbody tr th:only-of-type {\n",
       "        vertical-align: middle;\n",
       "    }\n",
       "\n",
       "    .dataframe tbody tr th {\n",
       "        vertical-align: top;\n",
       "    }\n",
       "\n",
       "    .dataframe thead th {\n",
       "        text-align: right;\n",
       "    }\n",
       "</style>\n",
       "<table border=\"1\" class=\"dataframe\">\n",
       "  <thead>\n",
       "    <tr style=\"text-align: right;\">\n",
       "      <th></th>\n",
       "      <th>Unnamed: 0</th>\n",
       "      <th>Content ID</th>\n",
       "      <th>Content Type</th>\n",
       "      <th>Category</th>\n",
       "    </tr>\n",
       "  </thead>\n",
       "  <tbody>\n",
       "    <tr>\n",
       "      <th>0</th>\n",
       "      <td>0</td>\n",
       "      <td>97522e57-d9ab-4bd6-97bf-c24d952602d2</td>\n",
       "      <td>photo</td>\n",
       "      <td>Studying</td>\n",
       "    </tr>\n",
       "    <tr>\n",
       "      <th>1</th>\n",
       "      <td>1</td>\n",
       "      <td>9f737e0a-3cdd-4d29-9d24-753f4e3be810</td>\n",
       "      <td>photo</td>\n",
       "      <td>healthy eating</td>\n",
       "    </tr>\n",
       "    <tr>\n",
       "      <th>2</th>\n",
       "      <td>2</td>\n",
       "      <td>230c4e4d-70c3-461d-b42c-ec09396efb3f</td>\n",
       "      <td>photo</td>\n",
       "      <td>healthy eating</td>\n",
       "    </tr>\n",
       "    <tr>\n",
       "      <th>3</th>\n",
       "      <td>3</td>\n",
       "      <td>356fff80-da4d-4785-9f43-bc1261031dc6</td>\n",
       "      <td>photo</td>\n",
       "      <td>technology</td>\n",
       "    </tr>\n",
       "    <tr>\n",
       "      <th>4</th>\n",
       "      <td>4</td>\n",
       "      <td>01ab84dd-6364-4236-abbb-3f237db77180</td>\n",
       "      <td>video</td>\n",
       "      <td>food</td>\n",
       "    </tr>\n",
       "    <tr>\n",
       "      <th>...</th>\n",
       "      <td>...</td>\n",
       "      <td>...</td>\n",
       "      <td>...</td>\n",
       "      <td>...</td>\n",
       "    </tr>\n",
       "    <tr>\n",
       "      <th>995</th>\n",
       "      <td>995</td>\n",
       "      <td>b4cef9ef-627b-41d7-a051-5961b0204ebb</td>\n",
       "      <td>video</td>\n",
       "      <td>public speaking</td>\n",
       "    </tr>\n",
       "    <tr>\n",
       "      <th>996</th>\n",
       "      <td>996</td>\n",
       "      <td>7a79f4e4-3b7d-44dc-bdef-bc990740252c</td>\n",
       "      <td>GIF</td>\n",
       "      <td>technology</td>\n",
       "    </tr>\n",
       "    <tr>\n",
       "      <th>997</th>\n",
       "      <td>997</td>\n",
       "      <td>435007a5-6261-4d8b-b0a4-55fdc189754b</td>\n",
       "      <td>audio</td>\n",
       "      <td>veganism</td>\n",
       "    </tr>\n",
       "    <tr>\n",
       "      <th>998</th>\n",
       "      <td>998</td>\n",
       "      <td>4e4c9690-c013-4ee7-9e66-943d8cbd27b7</td>\n",
       "      <td>GIF</td>\n",
       "      <td>culture</td>\n",
       "    </tr>\n",
       "    <tr>\n",
       "      <th>999</th>\n",
       "      <td>999</td>\n",
       "      <td>75d6b589-7fae-4a6d-b0d0-752845150e56</td>\n",
       "      <td>audio</td>\n",
       "      <td>technology</td>\n",
       "    </tr>\n",
       "  </tbody>\n",
       "</table>\n",
       "<p>1000 rows × 4 columns</p>\n",
       "</div>"
      ],
      "text/plain": [
       "     Unnamed: 0                            Content ID Content Type  \\\n",
       "0             0  97522e57-d9ab-4bd6-97bf-c24d952602d2        photo   \n",
       "1             1  9f737e0a-3cdd-4d29-9d24-753f4e3be810        photo   \n",
       "2             2  230c4e4d-70c3-461d-b42c-ec09396efb3f        photo   \n",
       "3             3  356fff80-da4d-4785-9f43-bc1261031dc6        photo   \n",
       "4             4  01ab84dd-6364-4236-abbb-3f237db77180        video   \n",
       "..          ...                                   ...          ...   \n",
       "995         995  b4cef9ef-627b-41d7-a051-5961b0204ebb        video   \n",
       "996         996  7a79f4e4-3b7d-44dc-bdef-bc990740252c          GIF   \n",
       "997         997  435007a5-6261-4d8b-b0a4-55fdc189754b        audio   \n",
       "998         998  4e4c9690-c013-4ee7-9e66-943d8cbd27b7          GIF   \n",
       "999         999  75d6b589-7fae-4a6d-b0d0-752845150e56        audio   \n",
       "\n",
       "            Category  \n",
       "0           Studying  \n",
       "1     healthy eating  \n",
       "2     healthy eating  \n",
       "3         technology  \n",
       "4               food  \n",
       "..               ...  \n",
       "995  public speaking  \n",
       "996       technology  \n",
       "997         veganism  \n",
       "998          culture  \n",
       "999       technology  \n",
       "\n",
       "[1000 rows x 4 columns]"
      ]
     },
     "execution_count": 5,
     "metadata": {},
     "output_type": "execute_result"
    }
   ],
   "source": [
    "df1 = df1.rename(columns={'Type': 'Content Type'})\n",
    "df1 = df1.drop(columns=['User ID'])\n",
    "df1"
   ]
  },
  {
   "cell_type": "code",
   "execution_count": 6,
   "metadata": {},
   "outputs": [
    {
     "name": "stdout",
     "output_type": "stream",
     "text": [
      "Missing values in df1:\n",
      "Unnamed: 0      0\n",
      "Content ID      0\n",
      "Content Type    0\n",
      "Category        0\n",
      "dtype: int64\n"
     ]
    }
   ],
   "source": [
    "# Check for blanks in df1\n",
    "print(\"Missing values in df1:\")\n",
    "print(df1.isnull().sum())\n",
    "\n"
   ]
  },
  {
   "cell_type": "code",
   "execution_count": 7,
   "metadata": {},
   "outputs": [
    {
     "name": "stdout",
     "output_type": "stream",
     "text": [
      "Duplicates in df1:\n",
      "Empty DataFrame\n",
      "Columns: [Unnamed: 0, Content ID, Content Type, Category]\n",
      "Index: []\n"
     ]
    }
   ],
   "source": [
    "# Remove surrounding quotes and strip whitespace from relevant columns\n",
    "df1['Content ID'] = df1['Content ID'].str.strip().str.replace('\"', '')\n",
    "\n",
    "\n",
    "# Check for duplicates\n",
    "duplicates = df1[df1.duplicated()]\n",
    "print(\"Duplicates in df1:\")\n",
    "print(duplicates)"
   ]
  },
  {
   "cell_type": "markdown",
   "metadata": {},
   "source": [
    "```markdown\n",
    "### Cleaning df2\n",
    "\n",
    "In this step, we will clean the `df2` dataframe by dropping unnecessary columns, handling any missing values, and ensuring data consistency. This will help us prepare the data for further analysis.\n",
    "```"
   ]
  },
  {
   "cell_type": "code",
   "execution_count": 8,
   "metadata": {},
   "outputs": [
    {
     "name": "stdout",
     "output_type": "stream",
     "text": [
      "Missing values in df2:\n",
      "Unnamed: 0    0\n",
      "Content ID    0\n",
      "User ID       0\n",
      "Type          0\n",
      "Datetime      0\n",
      "dtype: int64\n",
      "<class 'pandas.core.frame.DataFrame'>\n",
      "Index: 22534 entries, 1 to 25552\n",
      "Data columns (total 5 columns):\n",
      " #   Column      Non-Null Count  Dtype \n",
      "---  ------      --------------  ----- \n",
      " 0   Unnamed: 0  22534 non-null  int64 \n",
      " 1   Content ID  22534 non-null  object\n",
      " 2   User ID     22534 non-null  object\n",
      " 3   Type        22534 non-null  object\n",
      " 4   Datetime    22534 non-null  object\n",
      "dtypes: int64(1), object(4)\n",
      "memory usage: 1.0+ MB\n"
     ]
    }
   ],
   "source": [
    "# Remove surrounding quotes and strip whitespace from relevant columns\n",
    "df2['Content ID'] = df2['Content ID'].str.strip().str.replace('\"', '')\n",
    "df2['User ID'] = df2['User ID'].str.strip().str.replace('\"', '')\n",
    "\n",
    "# Check for blanks in df2\n",
    "df2 = df2.dropna(subset=['User ID', 'Type'])\n",
    "print(\"Missing values in df2:\")\n",
    "print(df2.isnull().sum())\n",
    "df2\n",
    "df2.info()\n",
    "df2 = df2.drop(columns=['User ID'])"
   ]
  },
  {
   "cell_type": "code",
   "execution_count": 9,
   "metadata": {},
   "outputs": [
    {
     "name": "stdout",
     "output_type": "stream",
     "text": [
      "Top 5 performing categories:\n",
      "          Category  Score\n",
      "24         animals  63544\n",
      "31  healthy eating  62866\n",
      "36      technology  61879\n",
      "33         science  60575\n",
      "25         cooking  58530\n"
     ]
    },
    {
     "data": {
      "application/vnd.microsoft.datawrangler.viewer.v0+json": {
       "columns": [
        {
         "name": "index",
         "rawType": "int64",
         "type": "integer"
        },
        {
         "name": "Content ID",
         "rawType": "object",
         "type": "string"
        },
        {
         "name": "Content Type",
         "rawType": "object",
         "type": "string"
        },
        {
         "name": "Category",
         "rawType": "object",
         "type": "string"
        },
        {
         "name": "Type",
         "rawType": "object",
         "type": "string"
        },
        {
         "name": "Datetime",
         "rawType": "object",
         "type": "string"
        },
        {
         "name": "Sentiment",
         "rawType": "object",
         "type": "string"
        },
        {
         "name": "Score",
         "rawType": "int64",
         "type": "integer"
        }
       ],
       "conversionMethod": "pd.DataFrame",
       "ref": "4d9cd664-65ab-469f-a7cf-73176a9fdd0a",
       "rows": [
        [
         "0",
         "97522e57-d9ab-4bd6-97bf-c24d952602d2",
         "photo",
         "Studying",
         "disgust",
         "2020-11-07 09:43:50",
         "negative",
         "0"
        ],
        [
         "1",
         "97522e57-d9ab-4bd6-97bf-c24d952602d2",
         "photo",
         "Studying",
         "dislike",
         "2021-06-17 12:22:51",
         "negative",
         "10"
        ],
        [
         "2",
         "97522e57-d9ab-4bd6-97bf-c24d952602d2",
         "photo",
         "Studying",
         "scared",
         "2021-04-18 05:13:58",
         "negative",
         "15"
        ],
        [
         "3",
         "97522e57-d9ab-4bd6-97bf-c24d952602d2",
         "photo",
         "Studying",
         "disgust",
         "2021-01-06 19:13:01",
         "negative",
         "0"
        ],
        [
         "4",
         "97522e57-d9ab-4bd6-97bf-c24d952602d2",
         "photo",
         "Studying",
         "interested",
         "2020-08-23 12:25:58",
         "positive",
         "30"
        ],
        [
         "5",
         "97522e57-d9ab-4bd6-97bf-c24d952602d2",
         "photo",
         "Studying",
         "peeking",
         "2020-12-07 06:27:54",
         "neutral",
         "35"
        ],
        [
         "6",
         "97522e57-d9ab-4bd6-97bf-c24d952602d2",
         "photo",
         "Studying",
         "cherish",
         "2021-04-11 17:35:49",
         "positive",
         "70"
        ],
        [
         "7",
         "97522e57-d9ab-4bd6-97bf-c24d952602d2",
         "photo",
         "Studying",
         "hate",
         "2021-01-27 08:32:09",
         "negative",
         "5"
        ],
        [
         "8",
         "97522e57-d9ab-4bd6-97bf-c24d952602d2",
         "photo",
         "Studying",
         "peeking",
         "2021-04-01 22:54:23",
         "neutral",
         "35"
        ],
        [
         "9",
         "97522e57-d9ab-4bd6-97bf-c24d952602d2",
         "photo",
         "Studying",
         "indifferent",
         "2020-11-07 08:36:27",
         "neutral",
         "20"
        ],
        [
         "10",
         "97522e57-d9ab-4bd6-97bf-c24d952602d2",
         "photo",
         "Studying",
         "scared",
         "2020-11-02 06:28:53",
         "negative",
         "15"
        ],
        [
         "11",
         "97522e57-d9ab-4bd6-97bf-c24d952602d2",
         "photo",
         "Studying",
         "interested",
         "2020-11-01 01:16:21",
         "positive",
         "30"
        ],
        [
         "12",
         "97522e57-d9ab-4bd6-97bf-c24d952602d2",
         "photo",
         "Studying",
         "hate",
         "2020-10-07 18:39:08",
         "negative",
         "5"
        ],
        [
         "13",
         "97522e57-d9ab-4bd6-97bf-c24d952602d2",
         "photo",
         "Studying",
         "scared",
         "2020-09-03 18:51:38",
         "negative",
         "15"
        ],
        [
         "14",
         "97522e57-d9ab-4bd6-97bf-c24d952602d2",
         "photo",
         "Studying",
         "super love",
         "2021-02-24 05:09:23",
         "positive",
         "75"
        ],
        [
         "15",
         "97522e57-d9ab-4bd6-97bf-c24d952602d2",
         "photo",
         "Studying",
         "peeking",
         "2020-09-23 06:24:11",
         "neutral",
         "35"
        ],
        [
         "16",
         "97522e57-d9ab-4bd6-97bf-c24d952602d2",
         "photo",
         "Studying",
         "indifferent",
         "2021-02-24 11:37:57",
         "neutral",
         "20"
        ],
        [
         "17",
         "97522e57-d9ab-4bd6-97bf-c24d952602d2",
         "photo",
         "Studying",
         "interested",
         "2021-05-22 19:44:23",
         "positive",
         "30"
        ],
        [
         "18",
         "97522e57-d9ab-4bd6-97bf-c24d952602d2",
         "photo",
         "Studying",
         "peeking",
         "2020-11-20 17:26:23",
         "neutral",
         "35"
        ],
        [
         "19",
         "97522e57-d9ab-4bd6-97bf-c24d952602d2",
         "photo",
         "Studying",
         "worried",
         "2021-04-11 20:47:13",
         "negative",
         "12"
        ],
        [
         "20",
         "97522e57-d9ab-4bd6-97bf-c24d952602d2",
         "photo",
         "Studying",
         "like",
         "2021-06-13 16:46:06",
         "positive",
         "50"
        ],
        [
         "21",
         "97522e57-d9ab-4bd6-97bf-c24d952602d2",
         "photo",
         "Studying",
         "heart",
         "2021-04-11 14:29:59",
         "positive",
         "60"
        ],
        [
         "22",
         "97522e57-d9ab-4bd6-97bf-c24d952602d2",
         "photo",
         "Studying",
         "worried",
         "2021-03-02 19:21:19",
         "negative",
         "12"
        ],
        [
         "23",
         "97522e57-d9ab-4bd6-97bf-c24d952602d2",
         "photo",
         "Studying",
         "hate",
         "2020-06-27 18:44:39",
         "negative",
         "5"
        ],
        [
         "24",
         "97522e57-d9ab-4bd6-97bf-c24d952602d2",
         "photo",
         "Studying",
         "hate",
         "2021-05-09 21:05:17",
         "negative",
         "5"
        ],
        [
         "25",
         "97522e57-d9ab-4bd6-97bf-c24d952602d2",
         "photo",
         "Studying",
         "cherish",
         "2020-08-04 23:58:42",
         "positive",
         "70"
        ],
        [
         "26",
         "97522e57-d9ab-4bd6-97bf-c24d952602d2",
         "photo",
         "Studying",
         "super love",
         "2020-08-28 03:57:20",
         "positive",
         "75"
        ],
        [
         "27",
         "97522e57-d9ab-4bd6-97bf-c24d952602d2",
         "photo",
         "Studying",
         "scared",
         "2021-04-20 23:48:12",
         "negative",
         "15"
        ],
        [
         "28",
         "97522e57-d9ab-4bd6-97bf-c24d952602d2",
         "photo",
         "Studying",
         "interested",
         "2021-03-07 12:40:11",
         "positive",
         "30"
        ],
        [
         "29",
         "97522e57-d9ab-4bd6-97bf-c24d952602d2",
         "photo",
         "Studying",
         "indifferent",
         "2021-05-24 03:21:13",
         "neutral",
         "20"
        ],
        [
         "30",
         "97522e57-d9ab-4bd6-97bf-c24d952602d2",
         "photo",
         "Studying",
         "super love",
         "2021-01-24 11:03:43",
         "positive",
         "75"
        ],
        [
         "31",
         "97522e57-d9ab-4bd6-97bf-c24d952602d2",
         "photo",
         "Studying",
         "disgust",
         "2021-04-09 02:46:20",
         "negative",
         "0"
        ],
        [
         "32",
         "97522e57-d9ab-4bd6-97bf-c24d952602d2",
         "photo",
         "Studying",
         "super love",
         "2021-02-02 03:43:43",
         "positive",
         "75"
        ],
        [
         "33",
         "97522e57-d9ab-4bd6-97bf-c24d952602d2",
         "photo",
         "Studying",
         "interested",
         "2021-02-04 03:06:12",
         "positive",
         "30"
        ],
        [
         "34",
         "97522e57-d9ab-4bd6-97bf-c24d952602d2",
         "photo",
         "Studying",
         "dislike",
         "2020-11-09 02:49:59",
         "negative",
         "10"
        ],
        [
         "35",
         "97522e57-d9ab-4bd6-97bf-c24d952602d2",
         "photo",
         "Studying",
         "scared",
         "2020-09-29 16:00:27",
         "negative",
         "15"
        ],
        [
         "36",
         "97522e57-d9ab-4bd6-97bf-c24d952602d2",
         "photo",
         "Studying",
         "want",
         "2021-02-13 07:54:01",
         "positive",
         "70"
        ],
        [
         "37",
         "97522e57-d9ab-4bd6-97bf-c24d952602d2",
         "photo",
         "Studying",
         "interested",
         "2020-07-14 05:28:44",
         "positive",
         "30"
        ],
        [
         "38",
         "97522e57-d9ab-4bd6-97bf-c24d952602d2",
         "photo",
         "Studying",
         "indifferent",
         "2020-08-23 10:30:37",
         "neutral",
         "20"
        ],
        [
         "39",
         "97522e57-d9ab-4bd6-97bf-c24d952602d2",
         "photo",
         "Studying",
         "worried",
         "2021-05-10 09:27:42",
         "negative",
         "12"
        ],
        [
         "40",
         "97522e57-d9ab-4bd6-97bf-c24d952602d2",
         "photo",
         "Studying",
         "hate",
         "2021-03-15 03:59:11",
         "negative",
         "5"
        ],
        [
         "41",
         "9f737e0a-3cdd-4d29-9d24-753f4e3be810",
         "photo",
         "healthy eating",
         "dislike",
         "2020-06-25 17:01:58",
         "negative",
         "10"
        ],
        [
         "42",
         "9f737e0a-3cdd-4d29-9d24-753f4e3be810",
         "photo",
         "healthy eating",
         "intrigued",
         "2020-09-13 00:11:50",
         "positive",
         "45"
        ],
        [
         "43",
         "9f737e0a-3cdd-4d29-9d24-753f4e3be810",
         "photo",
         "healthy eating",
         "peeking",
         "2020-08-20 18:17:06",
         "neutral",
         "35"
        ],
        [
         "44",
         "9f737e0a-3cdd-4d29-9d24-753f4e3be810",
         "photo",
         "healthy eating",
         "scared",
         "2021-02-11 04:53:56",
         "negative",
         "15"
        ],
        [
         "45",
         "9f737e0a-3cdd-4d29-9d24-753f4e3be810",
         "photo",
         "healthy eating",
         "hate",
         "2021-03-08 10:40:53",
         "negative",
         "5"
        ],
        [
         "46",
         "9f737e0a-3cdd-4d29-9d24-753f4e3be810",
         "photo",
         "healthy eating",
         "disgust",
         "2021-03-28 21:15:26",
         "negative",
         "0"
        ],
        [
         "47",
         "9f737e0a-3cdd-4d29-9d24-753f4e3be810",
         "photo",
         "healthy eating",
         "hate",
         "2021-05-25 01:00:28",
         "negative",
         "5"
        ],
        [
         "48",
         "9f737e0a-3cdd-4d29-9d24-753f4e3be810",
         "photo",
         "healthy eating",
         "like",
         "2021-03-15 12:17:43",
         "positive",
         "50"
        ],
        [
         "49",
         "9f737e0a-3cdd-4d29-9d24-753f4e3be810",
         "photo",
         "healthy eating",
         "love",
         "2021-05-05 16:26:43",
         "positive",
         "65"
        ]
       ],
       "shape": {
        "columns": 7,
        "rows": 22534
       }
      },
      "text/html": [
       "<div>\n",
       "<style scoped>\n",
       "    .dataframe tbody tr th:only-of-type {\n",
       "        vertical-align: middle;\n",
       "    }\n",
       "\n",
       "    .dataframe tbody tr th {\n",
       "        vertical-align: top;\n",
       "    }\n",
       "\n",
       "    .dataframe thead th {\n",
       "        text-align: right;\n",
       "    }\n",
       "</style>\n",
       "<table border=\"1\" class=\"dataframe\">\n",
       "  <thead>\n",
       "    <tr style=\"text-align: right;\">\n",
       "      <th></th>\n",
       "      <th>Content ID</th>\n",
       "      <th>Content Type</th>\n",
       "      <th>Category</th>\n",
       "      <th>Type</th>\n",
       "      <th>Datetime</th>\n",
       "      <th>Sentiment</th>\n",
       "      <th>Score</th>\n",
       "    </tr>\n",
       "  </thead>\n",
       "  <tbody>\n",
       "    <tr>\n",
       "      <th>0</th>\n",
       "      <td>97522e57-d9ab-4bd6-97bf-c24d952602d2</td>\n",
       "      <td>photo</td>\n",
       "      <td>Studying</td>\n",
       "      <td>disgust</td>\n",
       "      <td>2020-11-07 09:43:50</td>\n",
       "      <td>negative</td>\n",
       "      <td>0</td>\n",
       "    </tr>\n",
       "    <tr>\n",
       "      <th>1</th>\n",
       "      <td>97522e57-d9ab-4bd6-97bf-c24d952602d2</td>\n",
       "      <td>photo</td>\n",
       "      <td>Studying</td>\n",
       "      <td>dislike</td>\n",
       "      <td>2021-06-17 12:22:51</td>\n",
       "      <td>negative</td>\n",
       "      <td>10</td>\n",
       "    </tr>\n",
       "    <tr>\n",
       "      <th>2</th>\n",
       "      <td>97522e57-d9ab-4bd6-97bf-c24d952602d2</td>\n",
       "      <td>photo</td>\n",
       "      <td>Studying</td>\n",
       "      <td>scared</td>\n",
       "      <td>2021-04-18 05:13:58</td>\n",
       "      <td>negative</td>\n",
       "      <td>15</td>\n",
       "    </tr>\n",
       "    <tr>\n",
       "      <th>3</th>\n",
       "      <td>97522e57-d9ab-4bd6-97bf-c24d952602d2</td>\n",
       "      <td>photo</td>\n",
       "      <td>Studying</td>\n",
       "      <td>disgust</td>\n",
       "      <td>2021-01-06 19:13:01</td>\n",
       "      <td>negative</td>\n",
       "      <td>0</td>\n",
       "    </tr>\n",
       "    <tr>\n",
       "      <th>4</th>\n",
       "      <td>97522e57-d9ab-4bd6-97bf-c24d952602d2</td>\n",
       "      <td>photo</td>\n",
       "      <td>Studying</td>\n",
       "      <td>interested</td>\n",
       "      <td>2020-08-23 12:25:58</td>\n",
       "      <td>positive</td>\n",
       "      <td>30</td>\n",
       "    </tr>\n",
       "    <tr>\n",
       "      <th>...</th>\n",
       "      <td>...</td>\n",
       "      <td>...</td>\n",
       "      <td>...</td>\n",
       "      <td>...</td>\n",
       "      <td>...</td>\n",
       "      <td>...</td>\n",
       "      <td>...</td>\n",
       "    </tr>\n",
       "    <tr>\n",
       "      <th>22529</th>\n",
       "      <td>75d6b589-7fae-4a6d-b0d0-752845150e56</td>\n",
       "      <td>audio</td>\n",
       "      <td>technology</td>\n",
       "      <td>worried</td>\n",
       "      <td>2020-10-31 04:50:14</td>\n",
       "      <td>negative</td>\n",
       "      <td>12</td>\n",
       "    </tr>\n",
       "    <tr>\n",
       "      <th>22530</th>\n",
       "      <td>75d6b589-7fae-4a6d-b0d0-752845150e56</td>\n",
       "      <td>audio</td>\n",
       "      <td>technology</td>\n",
       "      <td>dislike</td>\n",
       "      <td>2020-06-27 09:46:48</td>\n",
       "      <td>negative</td>\n",
       "      <td>10</td>\n",
       "    </tr>\n",
       "    <tr>\n",
       "      <th>22531</th>\n",
       "      <td>75d6b589-7fae-4a6d-b0d0-752845150e56</td>\n",
       "      <td>audio</td>\n",
       "      <td>technology</td>\n",
       "      <td>intrigued</td>\n",
       "      <td>2021-02-16 17:17:02</td>\n",
       "      <td>positive</td>\n",
       "      <td>45</td>\n",
       "    </tr>\n",
       "    <tr>\n",
       "      <th>22532</th>\n",
       "      <td>75d6b589-7fae-4a6d-b0d0-752845150e56</td>\n",
       "      <td>audio</td>\n",
       "      <td>technology</td>\n",
       "      <td>worried</td>\n",
       "      <td>2020-11-04 20:08:31</td>\n",
       "      <td>negative</td>\n",
       "      <td>12</td>\n",
       "    </tr>\n",
       "    <tr>\n",
       "      <th>22533</th>\n",
       "      <td>75d6b589-7fae-4a6d-b0d0-752845150e56</td>\n",
       "      <td>audio</td>\n",
       "      <td>technology</td>\n",
       "      <td>cherish</td>\n",
       "      <td>2021-01-04 04:55:11</td>\n",
       "      <td>positive</td>\n",
       "      <td>70</td>\n",
       "    </tr>\n",
       "  </tbody>\n",
       "</table>\n",
       "<p>22534 rows × 7 columns</p>\n",
       "</div>"
      ],
      "text/plain": [
       "                                 Content ID Content Type    Category  \\\n",
       "0      97522e57-d9ab-4bd6-97bf-c24d952602d2        photo    Studying   \n",
       "1      97522e57-d9ab-4bd6-97bf-c24d952602d2        photo    Studying   \n",
       "2      97522e57-d9ab-4bd6-97bf-c24d952602d2        photo    Studying   \n",
       "3      97522e57-d9ab-4bd6-97bf-c24d952602d2        photo    Studying   \n",
       "4      97522e57-d9ab-4bd6-97bf-c24d952602d2        photo    Studying   \n",
       "...                                     ...          ...         ...   \n",
       "22529  75d6b589-7fae-4a6d-b0d0-752845150e56        audio  technology   \n",
       "22530  75d6b589-7fae-4a6d-b0d0-752845150e56        audio  technology   \n",
       "22531  75d6b589-7fae-4a6d-b0d0-752845150e56        audio  technology   \n",
       "22532  75d6b589-7fae-4a6d-b0d0-752845150e56        audio  technology   \n",
       "22533  75d6b589-7fae-4a6d-b0d0-752845150e56        audio  technology   \n",
       "\n",
       "             Type             Datetime Sentiment  Score  \n",
       "0         disgust  2020-11-07 09:43:50  negative      0  \n",
       "1         dislike  2021-06-17 12:22:51  negative     10  \n",
       "2          scared  2021-04-18 05:13:58  negative     15  \n",
       "3         disgust  2021-01-06 19:13:01  negative      0  \n",
       "4      interested  2020-08-23 12:25:58  positive     30  \n",
       "...           ...                  ...       ...    ...  \n",
       "22529     worried  2020-10-31 04:50:14  negative     12  \n",
       "22530     dislike  2020-06-27 09:46:48  negative     10  \n",
       "22531   intrigued  2021-02-16 17:17:02  positive     45  \n",
       "22532     worried  2020-11-04 20:08:31  negative     12  \n",
       "22533     cherish  2021-01-04 04:55:11  positive     70  \n",
       "\n",
       "[22534 rows x 7 columns]"
      ]
     },
     "execution_count": 9,
     "metadata": {},
     "output_type": "execute_result"
    }
   ],
   "source": [
    "# Merge df1 and df2 on 'Content ID'\n",
    "merged_df = pd.merge(df1, df2, on='Content ID')\n",
    "\n",
    "# Merge the result with df3 on 'Type'\n",
    "final_df = pd.merge(merged_df, df3, on='Type')\n",
    "\n",
    "# Calculate the total scores for each category\n",
    "category_scores = final_df.groupby('Category')['Score'].sum().reset_index()\n",
    "\n",
    "# Get the top 5 performing categories\n",
    "top_5_categories = category_scores.nlargest(5, 'Score')\n",
    "\n",
    "# Drop unnamed columns\n",
    "final_df = final_df.loc[:, ~final_df.columns.str.contains('^Unnamed')]\n",
    "\n",
    "# Display the top 5 categories\n",
    "print(\"Top 5 performing categories:\")\n",
    "print(top_5_categories)\n",
    "\n",
    "# Save the top 5 categories to a CSV file\n",
    "top_5_categories.to_csv(\"data/top_5_categories.csv\", index=False)\n",
    "\n",
    "# Display the final dataframe\n",
    "final_df"
   ]
  },
  {
   "cell_type": "code",
   "execution_count": 10,
   "metadata": {},
   "outputs": [],
   "source": [
    "# Save the final_df dataframe as a CSV file\n",
    "final_df.to_csv(\"data/final_dataframe.csv\", index=False)"
   ]
  },
  {
   "cell_type": "code",
   "execution_count": 11,
   "metadata": {},
   "outputs": [
    {
     "name": "stdout",
     "output_type": "stream",
     "text": [
      "                                Content ID Content Type        Category  \\\n",
      "0     9f737e0a-3cdd-4d29-9d24-753f4e3be810        photo  healthy eating   \n",
      "1     9f737e0a-3cdd-4d29-9d24-753f4e3be810        photo  healthy eating   \n",
      "2     9f737e0a-3cdd-4d29-9d24-753f4e3be810        photo  healthy eating   \n",
      "3     9f737e0a-3cdd-4d29-9d24-753f4e3be810        photo  healthy eating   \n",
      "4     9f737e0a-3cdd-4d29-9d24-753f4e3be810        photo  healthy eating   \n",
      "...                                    ...          ...             ...   \n",
      "7732  75d6b589-7fae-4a6d-b0d0-752845150e56        audio      technology   \n",
      "7733  75d6b589-7fae-4a6d-b0d0-752845150e56        audio      technology   \n",
      "7734  75d6b589-7fae-4a6d-b0d0-752845150e56        audio      technology   \n",
      "7735  75d6b589-7fae-4a6d-b0d0-752845150e56        audio      technology   \n",
      "7736  75d6b589-7fae-4a6d-b0d0-752845150e56        audio      technology   \n",
      "\n",
      "           Type             Datetime Sentiment  Score_final  Score_top5  \n",
      "0       dislike  2020-06-25 17:01:58  negative           10       62866  \n",
      "1     intrigued  2020-09-13 00:11:50  positive           45       62866  \n",
      "2       peeking  2020-08-20 18:17:06   neutral           35       62866  \n",
      "3        scared  2021-02-11 04:53:56  negative           15       62866  \n",
      "4          hate  2021-03-08 10:40:53  negative            5       62866  \n",
      "...         ...                  ...       ...          ...         ...  \n",
      "7732    worried  2020-10-31 04:50:14  negative           12       61879  \n",
      "7733    dislike  2020-06-27 09:46:48  negative           10       61879  \n",
      "7734  intrigued  2021-02-16 17:17:02  positive           45       61879  \n",
      "7735    worried  2020-11-04 20:08:31  negative           12       61879  \n",
      "7736    cherish  2021-01-04 04:55:11  positive           70       61879  \n",
      "\n",
      "[7737 rows x 8 columns]\n"
     ]
    }
   ],
   "source": [
    "# Merge final_df with top_5_categories on 'Category'\n",
    "merged_top_5_df = pd.merge(final_df, top_5_categories, on='Category', suffixes=('_final', '_top5'))\n",
    "\n",
    "# Display the merged dataframe\n",
    "print(merged_top_5_df)"
   ]
  },
  {
   "cell_type": "code",
   "execution_count": 12,
   "metadata": {},
   "outputs": [],
   "source": [
    "# Save the merged_top_5_df dataframe as a CSV file\n",
    "merged_top_5_df.to_csv(\"data/merged_top_5_dataframe.csv\", index=False)"
   ]
  }
 ],
 "metadata": {
  "kernelspec": {
   "display_name": "datascience_env",
   "language": "python",
   "name": "python3"
  },
  "language_info": {
   "codemirror_mode": {
    "name": "ipython",
    "version": 3
   },
   "file_extension": ".py",
   "mimetype": "text/x-python",
   "name": "python",
   "nbconvert_exporter": "python",
   "pygments_lexer": "ipython3",
   "version": "3.9.7"
  }
 },
 "nbformat": 4,
 "nbformat_minor": 2
}
